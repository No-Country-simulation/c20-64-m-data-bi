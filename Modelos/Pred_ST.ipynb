{
 "cells": [
  {
   "cell_type": "code",
   "execution_count": 436,
   "metadata": {},
   "outputs": [],
   "source": [
    "import pandas as pd\n",
    "import numpy as np \n",
    "import os, sys\n",
    "sys.path.append(os.getcwd())\n",
    "from sklearn.model_selection import train_test_split\n",
    "from sklearn.linear_model import LinearRegression\n",
    "from sklearn.ensemble import RandomForestRegressor\n",
    "from sklearn.metrics import mean_squared_error\n",
    "from sklearn.metrics import mean_absolute_error\n",
    "from sklearn.metrics import r2_score\n",
    "from statsmodels.tsa.holtwinters import ExponentialSmoothing\n",
    "import matplotlib.pyplot as plt\n",
    "from statsmodels.tsa.statespace.sarimax import SARIMAX\n",
    "import seaborn as sns\n",
    "from statsmodels.tsa.holtwinters import ExponentialSmoothing\n",
    "\n",
    "\n"
   ]
  },
  {
   "cell_type": "code",
   "execution_count": 437,
   "metadata": {},
   "outputs": [],
   "source": [
    "cierre_agricola =pd.read_csv('/home/sayi/NC.c20-64-m-data-bi/DataSets/cierre_agricola.csv', encoding='latin1')\n",
    "dfPP = pd.read_csv('/home/sayi/NC.c20-64-m-data-bi/DataSets/PP_Chiapas.csv', encoding='latin1')\n",
    "dfPT = pd.read_csv('/home/sayi/NC.c20-64-m-data-bi/DataSets/dfPT.csv', encoding='latin1')\n",
    "dfS = pd.read_csv('/home/sayi/NC.c20-64-m-data-bi/DataSets/Suelos_Chiapas.csv', encoding='latin1')"
   ]
  },
  {
   "cell_type": "code",
   "execution_count": 438,
   "metadata": {},
   "outputs": [
    {
     "name": "stdout",
     "output_type": "stream",
     "text": [
      "['MaÃ\\xadz grano' 'SandÃ\\xada' 'Sorgo grano' 'Cacahuate' 'Aguacate'\n",
      " 'Ciruela' 'LimÃ³n' 'Mango' 'Naranja' 'Papaya' 'Frijol' 'CafÃ© cereza'\n",
      " 'Mandarina' 'PlÃ¡tano' 'Cebolla' 'Chile verde' 'MelÃ³n' 'Guayaba' 'Mamey'\n",
      " 'Zapote' 'Pimienta' 'Cacao' 'Nanche' 'Tomate rojo (jitomate)'\n",
      " 'Tomate verde' 'MaraÃ±Ã³n' 'Tamarindo' 'CaÃ±a de azÃºcar' 'Durazno'\n",
      " 'Manzana' 'Col (repollo)' 'Papa' 'PerÃ³n' 'Tejocote' 'Trigo grano' 'Lima'\n",
      " 'Toronja (pomelo)' 'Zarzamora' 'Garbanzo grano' 'Pepino' 'Arroz palay'\n",
      " 'Chile seco' 'Girasol' 'Hule hevea' 'Palma africana o de aceite'\n",
      " 'Macadamia' 'Tabaco' 'AjonjolÃ\\xad' 'Soya' 'Copra' 'PiÃ±a'\n",
      " 'Calabaza semilla o chihua' 'Vainilla' 'Camote'\n",
      " 'Sorgo forrajero en verde' 'Hortalizas' 'RambutÃ¡n'\n",
      " 'CaÃ±a de azÃºcar piloncillo' 'Palma camedor' 'Pera' 'PiÃ±Ã³n'\n",
      " 'Semilla de caÃ±a de azÃºcar' 'Litchi' 'Semilla de soya' 'Stevia'\n",
      " 'Semilla de maÃ\\xadz grano' 'MangostÃ¡n' 'Elote' 'Chayote' 'Granada'\n",
      " 'Crisantemo (gruesa)' 'Lilium (gruesa)' 'Palma camedor (gruesa)']\n"
     ]
    },
    {
     "name": "stderr",
     "output_type": "stream",
     "text": [
      "/tmp/ipykernel_901/1176532396.py:5: SettingWithCopyWarning: \n",
      "A value is trying to be set on a copy of a slice from a DataFrame\n",
      "\n",
      "See the caveats in the documentation: https://pandas.pydata.org/pandas-docs/stable/user_guide/indexing.html#returning-a-view-versus-a-copy\n",
      "  df.rename(columns= {'Anio': 'Año' ,'Nomestado': 'Estado', 'Nommunicipio': 'Municipio' }, inplace=True)\n"
     ]
    }
   ],
   "source": [
    "df = cierre_agricola\n",
    "# Filtrar el DataFrame para excluir las filas donde 'Nomcultivo' es 'Pastos y praderas'\n",
    "df = df[df['Nomcultivo'] != 'Pastos y praderas']\n",
    "\n",
    "df.rename(columns= {'Anio': 'Año' ,'Nomestado': 'Estado', 'Nommunicipio': 'Municipio' }, inplace=True)\n",
    "\n",
    "# Verifica que se haya eliminado correctamente\n",
    "print(df['Nomcultivo'].unique())"
   ]
  },
  {
   "cell_type": "code",
   "execution_count": 439,
   "metadata": {},
   "outputs": [],
   "source": [
    "sin_pasto = df.groupby('Año').agg({\n",
    "    'Volumenproduccion': 'sum',\n",
    "    'Valorproduccion': 'sum', \n",
    "}).reset_index()"
   ]
  },
  {
   "cell_type": "code",
   "execution_count": 440,
   "metadata": {},
   "outputs": [],
   "source": [
    "dfPT.rename(columns={'AÃ±o': 'Año', 'Anual': 'PromTemp_anual'}, inplace=True)\n",
    "dfPP.rename(columns={'AÃ±o': 'Año', 'Anual': 'Prec_anual'}, inplace=True)"
   ]
  },
  {
   "cell_type": "code",
   "execution_count": 441,
   "metadata": {},
   "outputs": [],
   "source": [
    "dfPP = dfPP[['Año','Prec_anual']]\n",
    "dfPT = dfPT[['Año','PromTemp_anual']]"
   ]
  },
  {
   "cell_type": "code",
   "execution_count": 442,
   "metadata": {},
   "outputs": [],
   "source": [
    "df_pred = pd.merge(sin_pasto, dfPP, on=['Año'], how='left')\n"
   ]
  },
  {
   "cell_type": "code",
   "execution_count": 443,
   "metadata": {},
   "outputs": [
    {
     "data": {
      "text/html": [
       "<div>\n",
       "<style scoped>\n",
       "    .dataframe tbody tr th:only-of-type {\n",
       "        vertical-align: middle;\n",
       "    }\n",
       "\n",
       "    .dataframe tbody tr th {\n",
       "        vertical-align: top;\n",
       "    }\n",
       "\n",
       "    .dataframe thead th {\n",
       "        text-align: right;\n",
       "    }\n",
       "</style>\n",
       "<table border=\"1\" class=\"dataframe\">\n",
       "  <thead>\n",
       "    <tr style=\"text-align: right;\">\n",
       "      <th></th>\n",
       "      <th>Año</th>\n",
       "      <th>Volumenproduccion</th>\n",
       "      <th>Valorproduccion</th>\n",
       "      <th>Prec_anual</th>\n",
       "      <th>PromTemp_anual</th>\n",
       "    </tr>\n",
       "  </thead>\n",
       "  <tbody>\n",
       "    <tr>\n",
       "      <th>0</th>\n",
       "      <td>2003</td>\n",
       "      <td>6417346.15</td>\n",
       "      <td>8.636436e+09</td>\n",
       "      <td>1935.6</td>\n",
       "      <td>24.0</td>\n",
       "    </tr>\n",
       "    <tr>\n",
       "      <th>1</th>\n",
       "      <td>2004</td>\n",
       "      <td>6195827.08</td>\n",
       "      <td>8.741246e+09</td>\n",
       "      <td>1713.8</td>\n",
       "      <td>24.0</td>\n",
       "    </tr>\n",
       "    <tr>\n",
       "      <th>2</th>\n",
       "      <td>2005</td>\n",
       "      <td>6210077.83</td>\n",
       "      <td>8.660470e+09</td>\n",
       "      <td>2190.7</td>\n",
       "      <td>24.7</td>\n",
       "    </tr>\n",
       "    <tr>\n",
       "      <th>3</th>\n",
       "      <td>2006</td>\n",
       "      <td>5971190.30</td>\n",
       "      <td>1.021940e+10</td>\n",
       "      <td>2354.2</td>\n",
       "      <td>25.4</td>\n",
       "    </tr>\n",
       "    <tr>\n",
       "      <th>4</th>\n",
       "      <td>2007</td>\n",
       "      <td>5963631.89</td>\n",
       "      <td>1.125255e+10</td>\n",
       "      <td>2302.6</td>\n",
       "      <td>25.0</td>\n",
       "    </tr>\n",
       "  </tbody>\n",
       "</table>\n",
       "</div>"
      ],
      "text/plain": [
       "    Año  Volumenproduccion  Valorproduccion  Prec_anual  PromTemp_anual\n",
       "0  2003         6417346.15     8.636436e+09      1935.6            24.0\n",
       "1  2004         6195827.08     8.741246e+09      1713.8            24.0\n",
       "2  2005         6210077.83     8.660470e+09      2190.7            24.7\n",
       "3  2006         5971190.30     1.021940e+10      2354.2            25.4\n",
       "4  2007         5963631.89     1.125255e+10      2302.6            25.0"
      ]
     },
     "execution_count": 443,
     "metadata": {},
     "output_type": "execute_result"
    }
   ],
   "source": [
    "df_pred = pd.merge(df_pred, dfPT, on=['Año'], how='left')\n",
    "\n",
    "df_pred.head()"
   ]
  },
  {
   "cell_type": "code",
   "execution_count": 444,
   "metadata": {},
   "outputs": [
    {
     "name": "stdout",
     "output_type": "stream",
     "text": [
      "Index(['Año', 'Volumenproduccion', 'Valorproduccion', 'Prec_anual',\n",
      "       'PromTemp_anual'],\n",
      "      dtype='object')\n"
     ]
    }
   ],
   "source": [
    "column_names = df_pred.columns\n",
    "print(column_names)"
   ]
  },
  {
   "cell_type": "code",
   "execution_count": 445,
   "metadata": {},
   "outputs": [
    {
     "name": "stdout",
     "output_type": "stream",
     "text": [
      "<class 'pandas.core.frame.DataFrame'>\n",
      "RangeIndex: 21 entries, 0 to 20\n",
      "Data columns (total 5 columns):\n",
      " #   Column             Non-Null Count  Dtype  \n",
      "---  ------             --------------  -----  \n",
      " 0   Año                21 non-null     int64  \n",
      " 1   Volumenproduccion  21 non-null     float64\n",
      " 2   Valorproduccion    21 non-null     float64\n",
      " 3   Prec_anual         21 non-null     float64\n",
      " 4   PromTemp_anual     21 non-null     float64\n",
      "dtypes: float64(4), int64(1)\n",
      "memory usage: 972.0 bytes\n"
     ]
    }
   ],
   "source": [
    "df_pred.info()"
   ]
  },
  {
   "cell_type": "code",
   "execution_count": 446,
   "metadata": {},
   "outputs": [
    {
     "data": {
      "text/html": [
       "<div>\n",
       "<style scoped>\n",
       "    .dataframe tbody tr th:only-of-type {\n",
       "        vertical-align: middle;\n",
       "    }\n",
       "\n",
       "    .dataframe tbody tr th {\n",
       "        vertical-align: top;\n",
       "    }\n",
       "\n",
       "    .dataframe thead th {\n",
       "        text-align: right;\n",
       "    }\n",
       "</style>\n",
       "<table border=\"1\" class=\"dataframe\">\n",
       "  <thead>\n",
       "    <tr style=\"text-align: right;\">\n",
       "      <th></th>\n",
       "      <th>Año</th>\n",
       "      <th>Volumenproduccion</th>\n",
       "      <th>Valorproduccion</th>\n",
       "      <th>Prec_anual</th>\n",
       "      <th>PromTemp_anual</th>\n",
       "    </tr>\n",
       "  </thead>\n",
       "  <tbody>\n",
       "    <tr>\n",
       "      <th>count</th>\n",
       "      <td>21.000000</td>\n",
       "      <td>2.100000e+01</td>\n",
       "      <td>2.100000e+01</td>\n",
       "      <td>21.000000</td>\n",
       "      <td>21.000000</td>\n",
       "    </tr>\n",
       "    <tr>\n",
       "      <th>mean</th>\n",
       "      <td>2013.000000</td>\n",
       "      <td>6.488802e+06</td>\n",
       "      <td>1.484989e+10</td>\n",
       "      <td>2032.838095</td>\n",
       "      <td>24.909524</td>\n",
       "    </tr>\n",
       "    <tr>\n",
       "      <th>std</th>\n",
       "      <td>6.204837</td>\n",
       "      <td>3.744217e+05</td>\n",
       "      <td>3.850798e+09</td>\n",
       "      <td>294.304284</td>\n",
       "      <td>0.590682</td>\n",
       "    </tr>\n",
       "    <tr>\n",
       "      <th>min</th>\n",
       "      <td>2003.000000</td>\n",
       "      <td>5.936284e+06</td>\n",
       "      <td>8.636436e+09</td>\n",
       "      <td>1614.200000</td>\n",
       "      <td>24.000000</td>\n",
       "    </tr>\n",
       "    <tr>\n",
       "      <th>25%</th>\n",
       "      <td>2008.000000</td>\n",
       "      <td>6.210078e+06</td>\n",
       "      <td>1.236714e+10</td>\n",
       "      <td>1767.400000</td>\n",
       "      <td>24.500000</td>\n",
       "    </tr>\n",
       "    <tr>\n",
       "      <th>50%</th>\n",
       "      <td>2013.000000</td>\n",
       "      <td>6.416112e+06</td>\n",
       "      <td>1.529533e+10</td>\n",
       "      <td>1994.000000</td>\n",
       "      <td>24.900000</td>\n",
       "    </tr>\n",
       "    <tr>\n",
       "      <th>75%</th>\n",
       "      <td>2018.000000</td>\n",
       "      <td>6.721255e+06</td>\n",
       "      <td>1.772723e+10</td>\n",
       "      <td>2278.900000</td>\n",
       "      <td>25.400000</td>\n",
       "    </tr>\n",
       "    <tr>\n",
       "      <th>max</th>\n",
       "      <td>2023.000000</td>\n",
       "      <td>7.264487e+06</td>\n",
       "      <td>2.181591e+10</td>\n",
       "      <td>2730.300000</td>\n",
       "      <td>26.100000</td>\n",
       "    </tr>\n",
       "  </tbody>\n",
       "</table>\n",
       "</div>"
      ],
      "text/plain": [
       "               Año  Volumenproduccion  Valorproduccion   Prec_anual  \\\n",
       "count    21.000000       2.100000e+01     2.100000e+01    21.000000   \n",
       "mean   2013.000000       6.488802e+06     1.484989e+10  2032.838095   \n",
       "std       6.204837       3.744217e+05     3.850798e+09   294.304284   \n",
       "min    2003.000000       5.936284e+06     8.636436e+09  1614.200000   \n",
       "25%    2008.000000       6.210078e+06     1.236714e+10  1767.400000   \n",
       "50%    2013.000000       6.416112e+06     1.529533e+10  1994.000000   \n",
       "75%    2018.000000       6.721255e+06     1.772723e+10  2278.900000   \n",
       "max    2023.000000       7.264487e+06     2.181591e+10  2730.300000   \n",
       "\n",
       "       PromTemp_anual  \n",
       "count       21.000000  \n",
       "mean        24.909524  \n",
       "std          0.590682  \n",
       "min         24.000000  \n",
       "25%         24.500000  \n",
       "50%         24.900000  \n",
       "75%         25.400000  \n",
       "max         26.100000  "
      ]
     },
     "execution_count": 446,
     "metadata": {},
     "output_type": "execute_result"
    }
   ],
   "source": [
    "df_pred.describe()"
   ]
  },
  {
   "cell_type": "code",
   "execution_count": 447,
   "metadata": {},
   "outputs": [
    {
     "name": "stdout",
     "output_type": "stream",
     "text": [
      "    Año  Volumenproduccion  Valorproduccion  Prec_anual  PromTemp_anual\n",
      "0  2003         6417346.15     8.636436e+09      1935.6            24.0\n",
      "1  2004         6195827.08     8.741246e+09      1713.8            24.0\n",
      "2  2005         6210077.83     8.660470e+09      2190.7            24.7\n",
      "3  2006         5971190.30     1.021940e+10      2354.2            25.4\n",
      "4  2007         5963631.89     1.125255e+10      2302.6            25.0\n"
     ]
    }
   ],
   "source": [
    "# Seleccionar las columnas de tipo object\n",
    "object_cols = df_pred.select_dtypes(include='object').columns\n",
    "\n",
    "# Eliminar las columnas de tipo object\n",
    "df_pred = df_pred.drop(columns=object_cols)\n",
    "\n",
    "# Verificar el resultado\n",
    "print(df_pred.head())"
   ]
  },
  {
   "cell_type": "code",
   "execution_count": 448,
   "metadata": {},
   "outputs": [
    {
     "name": "stdout",
     "output_type": "stream",
     "text": [
      "Index(['Año', 'Volumenproduccion', 'Valorproduccion', 'Prec_anual',\n",
      "       'PromTemp_anual'],\n",
      "      dtype='object')\n"
     ]
    }
   ],
   "source": [
    "column_names = df_pred.columns\n",
    "print(column_names)"
   ]
  },
  {
   "cell_type": "code",
   "execution_count": 449,
   "metadata": {},
   "outputs": [
    {
     "name": "stdout",
     "output_type": "stream",
     "text": [
      "    Año  Volumenproduccion  Valorproduccion  Prec_anual  PromTemp_anual\n",
      "0  2003         6417346.15     8.636436e+09      1935.6            24.0\n",
      "1  2004         6195827.08     8.741246e+09      1713.8            24.0\n",
      "2  2005         6210077.83     8.660470e+09      2190.7            24.7\n",
      "3  2006         5971190.30     1.021940e+10      2354.2            25.4\n",
      "4  2007         5963631.89     1.125255e+10      2302.6            25.0\n"
     ]
    }
   ],
   "source": [
    "# Identificar columnas que comienzan con 'Id'\n",
    "id_cols = [col for col in df_pred.columns if col.startswith(('Id', 'ID'))]\n",
    "# Eliminar las columnas que comienzan con 'Id'\n",
    "df_pred = df_pred.drop(columns=id_cols)\n",
    "\n",
    "# Verificar el resultado\n",
    "print(df_pred.head())"
   ]
  },
  {
   "cell_type": "code",
   "execution_count": 450,
   "metadata": {},
   "outputs": [
    {
     "name": "stdout",
     "output_type": "stream",
     "text": [
      "Index(['Año', 'Volumenproduccion', 'Valorproduccion', 'Prec_anual',\n",
      "       'PromTemp_anual'],\n",
      "      dtype='object')\n"
     ]
    }
   ],
   "source": [
    "column_names = df_pred.columns\n",
    "print(column_names)"
   ]
  },
  {
   "cell_type": "code",
   "execution_count": 451,
   "metadata": {},
   "outputs": [
    {
     "name": "stdout",
     "output_type": "stream",
     "text": [
      "<class 'pandas.core.frame.DataFrame'>\n",
      "RangeIndex: 21 entries, 0 to 20\n",
      "Data columns (total 5 columns):\n",
      " #   Column             Non-Null Count  Dtype  \n",
      "---  ------             --------------  -----  \n",
      " 0   Año                21 non-null     int64  \n",
      " 1   Volumenproduccion  21 non-null     float64\n",
      " 2   Valorproduccion    21 non-null     float64\n",
      " 3   Prec_anual         21 non-null     float64\n",
      " 4   PromTemp_anual     21 non-null     float64\n",
      "dtypes: float64(4), int64(1)\n",
      "memory usage: 972.0 bytes\n"
     ]
    }
   ],
   "source": [
    "df_pred.info()"
   ]
  },
  {
   "cell_type": "code",
   "execution_count": 452,
   "metadata": {},
   "outputs": [
    {
     "name": "stdout",
     "output_type": "stream",
     "text": [
      "Año: 0.2397\n",
      "Valorproduccion: 0.5826\n",
      "Prec_anual: 0.0801\n",
      "PromTemp_anual: 0.0975\n"
     ]
    }
   ],
   "source": [
    "\n",
    "X = df_pred.drop(columns=['Volumenproduccion'])\n",
    "y = df_pred['Volumenproduccion']\n",
    "\n",
    "# Ajustar el modelo Random Forest\n",
    "rf = RandomForestRegressor()\n",
    "rf.fit(X, y)\n",
    "\n",
    "# Importancia de las variables\n",
    "importancias = rf.feature_importances_\n",
    "variables = X.columns\n",
    "for var, imp in zip(variables, importancias):\n",
    "    print(f'{var}: {imp:.4f}')"
   ]
  },
  {
   "cell_type": "code",
   "execution_count": 453,
   "metadata": {},
   "outputs": [
    {
     "name": "stdout",
     "output_type": "stream",
     "text": [
      "Volumenproduccion    1.000000\n",
      "Valorproduccion      0.755757\n",
      "Año                  0.639268\n",
      "PromTemp_anual       0.220343\n",
      "Prec_anual          -0.253352\n",
      "Name: Volumenproduccion, dtype: float64\n"
     ]
    }
   ],
   "source": [
    "# Calcular la matriz de correlación\n",
    "corr_matrix = df_pred.corr()\n",
    "\n",
    "corr_with_volprod = corr_matrix['Volumenproduccion']\n",
    "\n",
    "sorted_correlation = corr_with_volprod.sort_values(ascending = False)\n",
    "\n",
    "print(sorted_correlation)"
   ]
  },
  {
   "cell_type": "code",
   "execution_count": 454,
   "metadata": {},
   "outputs": [
    {
     "name": "stdout",
     "output_type": "stream",
     "text": [
      "Año\n",
      "2019-01-01    7081752.81\n",
      "2020-01-01    6414344.63\n",
      "2021-01-01    6180038.74\n",
      "2022-01-01    7264486.56\n",
      "2023-01-01    6991472.40\n",
      "Name: Volumenproduccion, dtype: float64\n",
      "2019-01-01    6.695235e+06\n",
      "2020-01-01    6.735518e+06\n",
      "2021-01-01    6.690946e+06\n",
      "2022-01-01    6.737121e+06\n",
      "2023-01-01    6.796898e+06\n",
      "Freq: YS-JAN, Name: predicted_mean, dtype: float64\n",
      "MAE: 388107.64\n",
      "RMSE: 407320.01\n",
      "MAPE: 5.75%\n"
     ]
    },
    {
     "name": "stderr",
     "output_type": "stream",
     "text": [
      "/home/sayi/NC.c20-64-m-data-bi/venv/lib/python3.11/site-packages/statsmodels/tsa/base/tsa_model.py:473: ValueWarning: No frequency information was provided, so inferred frequency YS-JAN will be used.\n",
      "  self._init_dates(dates, freq)\n",
      "/home/sayi/NC.c20-64-m-data-bi/venv/lib/python3.11/site-packages/statsmodels/tsa/base/tsa_model.py:473: ValueWarning: No frequency information was provided, so inferred frequency YS-JAN will be used.\n",
      "  self._init_dates(dates, freq)\n",
      "/home/sayi/NC.c20-64-m-data-bi/venv/lib/python3.11/site-packages/statsmodels/tsa/statespace/sarimax.py:866: UserWarning: Too few observations to estimate starting parameters for ARMA and trend. All parameters except for variances will be set to zeros.\n",
      "  warn('Too few observations to estimate starting parameters%s.'\n",
      "/home/sayi/NC.c20-64-m-data-bi/venv/lib/python3.11/site-packages/statsmodels/tsa/statespace/sarimax.py:866: UserWarning: Too few observations to estimate starting parameters for seasonal ARMA. All parameters except for variances will be set to zeros.\n",
      "  warn('Too few observations to estimate starting parameters%s.'\n"
     ]
    }
   ],
   "source": [
    "\n",
    "df_pred['Año'] = pd.to_datetime(df_pred['Año'], format='%Y')\n",
    "df_pred.set_index('Año', inplace=True)\n",
    "\n",
    "# Definir la serie temporal\n",
    "serie = df_pred['Volumenproduccion']\n",
    "\n",
    "# División en entrenamiento y prueba (últimos 5 años para prueba)\n",
    "train = serie.iloc[:-5]\n",
    "test = serie.iloc[-5:]\n",
    "\n",
    "# Ajustar el modelo SARIMA\n",
    "modelo = SARIMAX(train, order=(1, 1, 1), seasonal_order=(1, 1, 1, 12))\n",
    "modelo_ajustado = modelo.fit(disp=False)\n",
    "\n",
    "# Predicción en el conjunto de prueba\n",
    "predicciones = modelo_ajustado.forecast(steps=len(test))\n",
    "\n",
    "# Mostrar las predicciones y los valores reales\n",
    "print(test)\n",
    "print(predicciones)\n",
    "\n",
    "#Evaluar el modelo\n",
    "mae = mean_absolute_error(test, predicciones)\n",
    "rmse = np.sqrt(mean_squared_error(test, predicciones))\n",
    "\n",
    "print(f'MAE: {mae:.2f}')\n",
    "print(f'RMSE: {rmse:.2f}')\n",
    "\n",
    "\n",
    "# Mean Absolute Percentage Error (MAPE)\n",
    "mape = np.mean(np.abs((test - predicciones) / test)) * 100\n",
    "print(f'MAPE: {mape:.2f}%')"
   ]
  }
 ],
 "metadata": {
  "kernelspec": {
   "display_name": "Python 3",
   "language": "python",
   "name": "python3"
  },
  "language_info": {
   "codemirror_mode": {
    "name": "ipython",
    "version": 3
   },
   "file_extension": ".py",
   "mimetype": "text/x-python",
   "name": "python",
   "nbconvert_exporter": "python",
   "pygments_lexer": "ipython3",
   "version": "3.11.9"
  }
 },
 "nbformat": 4,
 "nbformat_minor": 2
}
